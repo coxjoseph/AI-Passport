{
 "cells": [
  {
   "cell_type": "code",
   "execution_count": null,
   "id": "initial_id",
   "metadata": {
    "collapsed": true
   },
   "outputs": [],
   "source": [
    "import numpy as np\n",
    "import matplotlib.pyplot as plt\n",
    "import cv2"
   ]
  },
  {
   "metadata": {},
   "cell_type": "markdown",
   "source": [
    "# AI Passport: Module 5 Clinical Assignment (Reveal Notebook)\n",
    "\n",
    "## Instructions:\n",
    "- This assignment is focused on the clinical applications of AI in Biomedical Imaging\n",
    "- There are 23 questions based on the videos and tutorials presented in Module 5: Biomedical Image Analysis\n",
    "    - 14 technical problems\n",
    "    - 7 open-ended reflection questions\n",
    "    - 1 Rigor and Reproducibility question\n",
    "    - 1 Responsible Conduct of Research (RCR) question\n",
    "---"
   ],
   "id": "ebbd4dd2e161e92a"
  },
  {
   "metadata": {},
   "cell_type": "code",
   "outputs": [],
   "execution_count": null,
   "source": "",
   "id": "3bfa6c746ee49c3b"
  },
  {
   "metadata": {},
   "cell_type": "markdown",
   "source": [
    "# Microskill 1: Landscape of Biomedical Imaging\n",
    "\n",
    "## Problem 1.1: Identifying Structures in X-ray Imaging\n",
    "\n",
    "X-ray imaging is widely used for diagnosis fractures and lung diseases. Below is a Chest X-ray from the [ChestX-ray14](https://nihcc.app.box.com/v/ChestXray-NIHCC/file/220660789610) dataset.\n",
    "\n",
    "### Task:\n",
    "- Run the provided edge detection code on the X-ray image.\n",
    "- Adjust the `low_threshold` and `high_threshold` variables in the Canny function.\n",
    "- Observe how these values affect the detected edges, then change their values to create a good edge detection.\n",
    "- Answer the follow-up question on fracture detection challenges."
   ],
   "id": "72dfcdfd8b44b047"
  },
  {
   "metadata": {},
   "cell_type": "code",
   "outputs": [],
   "execution_count": null,
   "source": [
    "# Load a sample X-ray image\n",
    "img = np.zeros((256, 256), dtype=np.uint8)\n",
    "\n",
    "# Set threshold values for our filter\n",
    "low_threshold = 50\n",
    "high_threshold = 200\n",
    "# Use a Canny filter to detect edges based on our thresholds\n",
    "edges = cv2.Canny(img, low_threshold, high_threshold)\n",
    "\n",
    "\n",
    "# Plotting code\n",
    "plt.figure(figsize=(8,4))\n",
    "plt.subplot(121)\n",
    "plt.imshow(img, cmap='gray')\n",
    "plt.title('Original Image')\n",
    "plt.axis('off')\n",
    "\n",
    "plt.subplot(122)\n",
    "plt.imshow(edges, cmap='gray')\n",
    "plt.title('Edge Detection Output')\n",
    "plt.axis('off')\n",
    "plt.show()"
   ],
   "id": "5fd57050c5f02581"
  },
  {
   "metadata": {},
   "cell_type": "markdown",
   "source": [
    "### Follow up Question:\n",
    "Why might edge detection alone be insufficient for detecting fractures in an X-ray image?"
   ],
   "id": "5da04193e0d758ba"
  },
  {
   "metadata": {},
   "cell_type": "markdown",
   "source": [
    "### Solution:\n",
    "\\# TODO: Select image to find threshold\n",
    "Good low thresholds could be anywhere from 20-70. Good high thresholds could be anywhere from 150-200.\n",
    "\n",
    "Follow up question: Edge detection helps highlight bones, but detecting fractures is challenging due to noise, overlapping structures, and variations in brightness. Additionally, fractures may not have strong contrast differences, making them difficult to detect with edge-based methods alone.\n"
   ],
   "id": "d78f4cdacf938fde"
  },
  {
   "metadata": {},
   "cell_type": "code",
   "outputs": [],
   "execution_count": null,
   "source": "",
   "id": "16037cf2484df7c9"
  },
  {
   "metadata": {},
   "cell_type": "markdown",
   "source": [
    "## 1.2: Comparing CT and MRI for Brain Imaging\n",
    "\n",
    "CT and MRI scans are commonly used for brain imaging.\n",
    "\n",
    "### Task:\n",
    "- Read the provided description of how CT and MRI work.\n",
    "- List two key differences in how CT and MRI generate images\n",
    "- Explain one clinical scenarios in which CT is preferred over MRI, and vice versa"
   ],
   "id": "a2676b7afa742320"
  },
  {
   "metadata": {},
   "cell_type": "markdown",
   "source": [
    "### Solution:\n",
    "1. CT uses X-rays to generate images, while MRI relies on magnetic\n",
    "2. One example: CT is preferred for detecting acute hemorrhages due to its speed, while MRI is better for analyzing chronic conditions. An"
   ],
   "id": "a0ca845bf1bb00a6"
  }
 ],
 "metadata": {
  "kernelspec": {
   "display_name": "Python 3",
   "language": "python",
   "name": "python3"
  },
  "language_info": {
   "codemirror_mode": {
    "name": "ipython",
    "version": 2
   },
   "file_extension": ".py",
   "mimetype": "text/x-python",
   "name": "python",
   "nbconvert_exporter": "python",
   "pygments_lexer": "ipython2",
   "version": "2.7.6"
  }
 },
 "nbformat": 4,
 "nbformat_minor": 5
}
